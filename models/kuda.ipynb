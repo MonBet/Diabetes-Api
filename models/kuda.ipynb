{
 "cells": [
  {
   "cell_type": "code",
   "execution_count": 16,
   "metadata": {},
   "outputs": [],
   "source": [
    "import pickle\n",
    "import numpy as np\n",
    "import pandas as pd\n",
    "from sklearn.externals import joblib\n",
    "from sklearn import svm\n",
    "from sklearn.naive_bayes import GaussianNB\n",
    "from sklearn.model_selection import train_test_split \n",
    "from sklearn.model_selection import cross_validate\n",
    "from sklearn.metrics import precision_recall_fscore_support\n",
    "from sklearn.metrics import accuracy_score\n",
    "from sklearn.metrics import recall_score\n",
    "from sklearn.metrics import precision_score\n",
    "from sklearn.metrics import f1_score\n",
    "from sklearn.metrics import confusion_matrix"
   ]
  },
  {
   "cell_type": "code",
   "execution_count": 17,
   "metadata": {},
   "outputs": [],
   "source": [
    "#Read CSV, index+1 supaya index dimulai dari 1, tidak 0, memudahkan pembacaan dataframe dibawah.\n",
    "df = pd.read_csv('diabetes.csv')\n",
    "df.index += 1"
   ]
  },
  {
   "cell_type": "code",
   "execution_count": 18,
   "metadata": {},
   "outputs": [
    {
     "data": {
      "text/html": [
       "<div>\n",
       "<style scoped>\n",
       "    .dataframe tbody tr th:only-of-type {\n",
       "        vertical-align: middle;\n",
       "    }\n",
       "\n",
       "    .dataframe tbody tr th {\n",
       "        vertical-align: top;\n",
       "    }\n",
       "\n",
       "    .dataframe thead th {\n",
       "        text-align: right;\n",
       "    }\n",
       "</style>\n",
       "<table border=\"1\" class=\"dataframe\">\n",
       "  <thead>\n",
       "    <tr style=\"text-align: right;\">\n",
       "      <th></th>\n",
       "      <th>preg</th>\n",
       "      <th>plas</th>\n",
       "      <th>pres</th>\n",
       "      <th>skin</th>\n",
       "      <th>test</th>\n",
       "      <th>mass</th>\n",
       "      <th>pedi</th>\n",
       "      <th>age</th>\n",
       "      <th>diabetes</th>\n",
       "    </tr>\n",
       "  </thead>\n",
       "  <tbody>\n",
       "    <tr>\n",
       "      <td>1</td>\n",
       "      <td>6</td>\n",
       "      <td>148</td>\n",
       "      <td>72</td>\n",
       "      <td>35</td>\n",
       "      <td>0</td>\n",
       "      <td>33.6</td>\n",
       "      <td>0.627</td>\n",
       "      <td>50</td>\n",
       "      <td>1</td>\n",
       "    </tr>\n",
       "    <tr>\n",
       "      <td>2</td>\n",
       "      <td>1</td>\n",
       "      <td>85</td>\n",
       "      <td>66</td>\n",
       "      <td>29</td>\n",
       "      <td>0</td>\n",
       "      <td>26.6</td>\n",
       "      <td>0.351</td>\n",
       "      <td>31</td>\n",
       "      <td>0</td>\n",
       "    </tr>\n",
       "    <tr>\n",
       "      <td>3</td>\n",
       "      <td>8</td>\n",
       "      <td>183</td>\n",
       "      <td>64</td>\n",
       "      <td>0</td>\n",
       "      <td>0</td>\n",
       "      <td>23.3</td>\n",
       "      <td>0.672</td>\n",
       "      <td>32</td>\n",
       "      <td>1</td>\n",
       "    </tr>\n",
       "    <tr>\n",
       "      <td>4</td>\n",
       "      <td>1</td>\n",
       "      <td>89</td>\n",
       "      <td>66</td>\n",
       "      <td>23</td>\n",
       "      <td>94</td>\n",
       "      <td>28.1</td>\n",
       "      <td>0.167</td>\n",
       "      <td>21</td>\n",
       "      <td>0</td>\n",
       "    </tr>\n",
       "    <tr>\n",
       "      <td>5</td>\n",
       "      <td>0</td>\n",
       "      <td>137</td>\n",
       "      <td>40</td>\n",
       "      <td>35</td>\n",
       "      <td>168</td>\n",
       "      <td>43.1</td>\n",
       "      <td>2.288</td>\n",
       "      <td>33</td>\n",
       "      <td>1</td>\n",
       "    </tr>\n",
       "  </tbody>\n",
       "</table>\n",
       "</div>"
      ],
      "text/plain": [
       "   preg  plas  pres  skin  test  mass   pedi  age  diabetes\n",
       "1     6   148    72    35     0  33.6  0.627   50         1\n",
       "2     1    85    66    29     0  26.6  0.351   31         0\n",
       "3     8   183    64     0     0  23.3  0.672   32         1\n",
       "4     1    89    66    23    94  28.1  0.167   21         0\n",
       "5     0   137    40    35   168  43.1  2.288   33         1"
      ]
     },
     "execution_count": 18,
     "metadata": {},
     "output_type": "execute_result"
    }
   ],
   "source": [
    "#melihat dataframe diabetes.csv\n",
    "df.head()"
   ]
  },
  {
   "cell_type": "code",
   "execution_count": 19,
   "metadata": {},
   "outputs": [],
   "source": [
    "#target / label. Kolom terakhir/kolom 'diabetes'.\n",
    "#mengambil dataframe untuk disimpan menjadi array. \n",
    "#np_target = df.iloc[:,-1:].values #alternatif\n",
    "np_target = df['diabetes'].values"
   ]
  },
  {
   "cell_type": "code",
   "execution_count": 20,
   "metadata": {},
   "outputs": [],
   "source": [
    "#Features. Mengambil kolom 1 - 8 dengan mengakses index. \n",
    "np_data = df.iloc[:,:-1].values"
   ]
  },
  {
   "cell_type": "code",
   "execution_count": 21,
   "metadata": {},
   "outputs": [],
   "source": [
    "#Naive Bayes\n",
    "clf = GaussianNB()"
   ]
  },
  {
   "cell_type": "code",
   "execution_count": 22,
   "metadata": {},
   "outputs": [],
   "source": [
    "#Support Vector Classification model\n",
    "#clf = svm.SVC(kernel='linear', gamma=0.001, C=100)"
   ]
  },
  {
   "cell_type": "code",
   "execution_count": 23,
   "metadata": {},
   "outputs": [],
   "source": [
    "#Split dataset, 20% testing 80% training.\n",
    "X_train, X_test, y_train, y_test = train_test_split(np_data,np_target,test_size=0.2, random_state=None)"
   ]
  },
  {
   "cell_type": "code",
   "execution_count": 24,
   "metadata": {},
   "outputs": [
    {
     "data": {
      "text/plain": [
       "array([[0.00e+00, 1.23e+02, 7.20e+01, ..., 3.63e+01, 2.58e-01, 5.20e+01],\n",
       "       [6.00e+00, 1.17e+02, 9.60e+01, ..., 2.87e+01, 1.57e-01, 3.00e+01],\n",
       "       [3.00e+00, 1.41e+02, 0.00e+00, ..., 3.00e+01, 7.61e-01, 2.70e+01],\n",
       "       ...,\n",
       "       [2.00e+00, 1.08e+02, 6.20e+01, ..., 2.53e+01, 8.81e-01, 2.20e+01],\n",
       "       [3.00e+00, 1.58e+02, 7.00e+01, ..., 3.55e+01, 3.44e-01, 3.50e+01],\n",
       "       [1.00e+00, 1.09e+02, 3.80e+01, ..., 2.31e+01, 4.07e-01, 2.60e+01]])"
      ]
     },
     "execution_count": 24,
     "metadata": {},
     "output_type": "execute_result"
    }
   ],
   "source": [
    "X_train"
   ]
  },
  {
   "cell_type": "code",
   "execution_count": 25,
   "metadata": {},
   "outputs": [
    {
     "data": {
      "text/plain": [
       "(614, 154)"
      ]
     },
     "execution_count": 25,
     "metadata": {},
     "output_type": "execute_result"
    }
   ],
   "source": [
    "#Cuma buat liat ukuran data train vs data test\n",
    "len(X_train), len(X_test)"
   ]
  },
  {
   "cell_type": "code",
   "execution_count": 26,
   "metadata": {},
   "outputs": [
    {
     "data": {
      "text/plain": [
       "GaussianNB(priors=None, var_smoothing=1e-09)"
      ]
     },
     "execution_count": 26,
     "metadata": {},
     "output_type": "execute_result"
    }
   ],
   "source": [
    "#Fit model SVM sesuai data training (proses training model)\n",
    "clf.fit(X_train, y_train)"
   ]
  },
  {
   "cell_type": "code",
   "execution_count": 27,
   "metadata": {},
   "outputs": [],
   "source": [
    "#CrossValidation model yang sudah dibangun. Dengan parameter scoring=accuracy,precision, dan recall\n",
    "scoring = ['accuracy', 'precision', 'recall']\n",
    "scores = cross_validate(clf, X_test, y_test, scoring=scoring, cv=5, return_train_score=True)"
   ]
  },
  {
   "cell_type": "code",
   "execution_count": 28,
   "metadata": {},
   "outputs": [
    {
     "data": {
      "text/plain": [
       "{'fit_time': array([0.00184917, 0.00075388, 0.00070381, 0.00171876, 0.00071931]),\n",
       " 'score_time': array([0.00523567, 0.00247812, 0.00480533, 0.00222063, 0.00263906]),\n",
       " 'test_accuracy': array([0.61290323, 0.83870968, 0.74193548, 0.61290323, 0.7       ]),\n",
       " 'train_accuracy': array([0.74796748, 0.76422764, 0.7398374 , 0.7398374 , 0.75      ]),\n",
       " 'test_precision': array([0.42857143, 0.8       , 0.63636364, 0.44444444, 0.6       ]),\n",
       " 'train_precision': array([0.66666667, 0.74193548, 0.67647059, 0.66666667, 0.6969697 ]),\n",
       " 'test_recall': array([0.27272727, 0.72727273, 0.63636364, 0.36363636, 0.54545455]),\n",
       " 'train_recall': array([0.59090909, 0.52272727, 0.52272727, 0.54545455, 0.52272727])}"
      ]
     },
     "execution_count": 28,
     "metadata": {},
     "output_type": "execute_result"
    }
   ],
   "source": [
    "#Menampilkan hasil dari cross validation\n",
    "scores"
   ]
  },
  {
   "cell_type": "code",
   "execution_count": 29,
   "metadata": {},
   "outputs": [
    {
     "data": {
      "text/plain": [
       "array([0.61290323, 0.83870968, 0.74193548, 0.61290323, 0.7       ])"
      ]
     },
     "execution_count": 29,
     "metadata": {},
     "output_type": "execute_result"
    }
   ],
   "source": [
    "#menampilkan test_accuracy dari cross validation, memiliki 5 value, tiap value adalah representasi akurasi dari tiap iterasi\n",
    "scores['test_accuracy']"
   ]
  },
  {
   "cell_type": "code",
   "execution_count": 30,
   "metadata": {},
   "outputs": [
    {
     "data": {
      "text/html": [
       "<div>\n",
       "<style scoped>\n",
       "    .dataframe tbody tr th:only-of-type {\n",
       "        vertical-align: middle;\n",
       "    }\n",
       "\n",
       "    .dataframe tbody tr th {\n",
       "        vertical-align: top;\n",
       "    }\n",
       "\n",
       "    .dataframe thead th {\n",
       "        text-align: right;\n",
       "    }\n",
       "</style>\n",
       "<table border=\"1\" class=\"dataframe\">\n",
       "  <thead>\n",
       "    <tr style=\"text-align: right;\">\n",
       "      <th></th>\n",
       "      <th>fit_time</th>\n",
       "      <th>score_time</th>\n",
       "      <th>test_accuracy</th>\n",
       "      <th>train_accuracy</th>\n",
       "      <th>test_precision</th>\n",
       "      <th>train_precision</th>\n",
       "      <th>test_recall</th>\n",
       "      <th>train_recall</th>\n",
       "    </tr>\n",
       "  </thead>\n",
       "  <tbody>\n",
       "    <tr>\n",
       "      <td>1</td>\n",
       "      <td>0.001849</td>\n",
       "      <td>0.005236</td>\n",
       "      <td>0.612903</td>\n",
       "      <td>0.747967</td>\n",
       "      <td>0.428571</td>\n",
       "      <td>0.666667</td>\n",
       "      <td>0.272727</td>\n",
       "      <td>0.590909</td>\n",
       "    </tr>\n",
       "    <tr>\n",
       "      <td>2</td>\n",
       "      <td>0.000754</td>\n",
       "      <td>0.002478</td>\n",
       "      <td>0.838710</td>\n",
       "      <td>0.764228</td>\n",
       "      <td>0.800000</td>\n",
       "      <td>0.741935</td>\n",
       "      <td>0.727273</td>\n",
       "      <td>0.522727</td>\n",
       "    </tr>\n",
       "    <tr>\n",
       "      <td>3</td>\n",
       "      <td>0.000704</td>\n",
       "      <td>0.004805</td>\n",
       "      <td>0.741935</td>\n",
       "      <td>0.739837</td>\n",
       "      <td>0.636364</td>\n",
       "      <td>0.676471</td>\n",
       "      <td>0.636364</td>\n",
       "      <td>0.522727</td>\n",
       "    </tr>\n",
       "    <tr>\n",
       "      <td>4</td>\n",
       "      <td>0.001719</td>\n",
       "      <td>0.002221</td>\n",
       "      <td>0.612903</td>\n",
       "      <td>0.739837</td>\n",
       "      <td>0.444444</td>\n",
       "      <td>0.666667</td>\n",
       "      <td>0.363636</td>\n",
       "      <td>0.545455</td>\n",
       "    </tr>\n",
       "    <tr>\n",
       "      <td>5</td>\n",
       "      <td>0.000719</td>\n",
       "      <td>0.002639</td>\n",
       "      <td>0.700000</td>\n",
       "      <td>0.750000</td>\n",
       "      <td>0.600000</td>\n",
       "      <td>0.696970</td>\n",
       "      <td>0.545455</td>\n",
       "      <td>0.522727</td>\n",
       "    </tr>\n",
       "  </tbody>\n",
       "</table>\n",
       "</div>"
      ],
      "text/plain": [
       "   fit_time  score_time  test_accuracy  train_accuracy  test_precision  \\\n",
       "1  0.001849    0.005236       0.612903        0.747967        0.428571   \n",
       "2  0.000754    0.002478       0.838710        0.764228        0.800000   \n",
       "3  0.000704    0.004805       0.741935        0.739837        0.636364   \n",
       "4  0.001719    0.002221       0.612903        0.739837        0.444444   \n",
       "5  0.000719    0.002639       0.700000        0.750000        0.600000   \n",
       "\n",
       "   train_precision  test_recall  train_recall  \n",
       "1         0.666667     0.272727      0.590909  \n",
       "2         0.741935     0.727273      0.522727  \n",
       "3         0.676471     0.636364      0.522727  \n",
       "4         0.666667     0.363636      0.545455  \n",
       "5         0.696970     0.545455      0.522727  "
      ]
     },
     "execution_count": 30,
     "metadata": {},
     "output_type": "execute_result"
    }
   ],
   "source": [
    "#Hasil cross validation berupa dictionary. Kemudian dictionary disimpan menjadi dataframe. Hanya untuk keperluan pembacaan\n",
    "df_scores = pd.DataFrame.from_dict(scores)\n",
    "df_scores.index +=1\n",
    "df_scores"
   ]
  },
  {
   "cell_type": "code",
   "execution_count": 31,
   "metadata": {},
   "outputs": [],
   "source": [
    "#DUMP MODEL YANG SUDAH DIBUAT AGAR MENJADI MODEL PERSISTENCE DAN LANGSUNG DIGUNAKAN DITEMPAT LAIN.\n",
    "#joblib.dump(clf, 'praktikum1_svc.pkl') "
   ]
  },
  {
   "cell_type": "code",
   "execution_count": 32,
   "metadata": {},
   "outputs": [],
   "source": [
    "pickle.dump(clf, open('model_nb.pkl','wb'))"
   ]
  },
  {
   "cell_type": "code",
   "execution_count": 34,
   "metadata": {},
   "outputs": [
    {
     "data": {
      "text/plain": [
       "array([[0.16109847, 0.83890153]])"
      ]
     },
     "execution_count": 34,
     "metadata": {},
     "output_type": "execute_result"
    }
   ],
   "source": [
    "sample = np.array([6,148,72,35,0,34,1,50])\n",
    "clf.predict_proba(sample.reshape(1,-1))"
   ]
  },
  {
   "cell_type": "code",
   "execution_count": 35,
   "metadata": {},
   "outputs": [
    {
     "data": {
      "text/plain": [
       "array([1])"
      ]
     },
     "execution_count": 35,
     "metadata": {},
     "output_type": "execute_result"
    }
   ],
   "source": [
    "clf.predict(sample.reshape(1,-1))"
   ]
  },
  {
   "cell_type": "code",
   "execution_count": 36,
   "metadata": {},
   "outputs": [],
   "source": [
    "import pickle\n",
    "pickle.dump(clf, open('models/model_nb.pickle', 'wb'))"
   ]
  },
  {
   "cell_type": "code",
   "execution_count": null,
   "metadata": {},
   "outputs": [],
   "source": []
  }
 ],
 "metadata": {
  "kernelspec": {
   "display_name": "Python 3",
   "language": "python",
   "name": "python3"
  },
  "language_info": {
   "codemirror_mode": {
    "name": "ipython",
    "version": 3
   },
   "file_extension": ".py",
   "mimetype": "text/x-python",
   "name": "python",
   "nbconvert_exporter": "python",
   "pygments_lexer": "ipython3",
   "version": "3.6.8"
  }
 },
 "nbformat": 4,
 "nbformat_minor": 2
}
